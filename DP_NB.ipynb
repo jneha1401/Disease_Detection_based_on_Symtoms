{
  "nbformat": 4,
  "nbformat_minor": 0,
  "metadata": {
    "colab": {
      "provenance": [],
      "authorship_tag": "ABX9TyNMAlsJcmUA4MgF5pv+1VL6",
      "include_colab_link": true
    },
    "kernelspec": {
      "name": "python3",
      "display_name": "Python 3"
    },
    "language_info": {
      "name": "python"
    }
  },
  "cells": [
    {
      "cell_type": "markdown",
      "metadata": {
        "id": "view-in-github",
        "colab_type": "text"
      },
      "source": [
        "<a href=\"https://colab.research.google.com/github/jneha1401/Disease_Detection_based_on_Symtoms/blob/main/DP_NB.ipynb\" target=\"_parent\"><img src=\"https://colab.research.google.com/assets/colab-badge.svg\" alt=\"Open In Colab\"/></a>"
      ]
    },
    {
      "cell_type": "code",
      "source": [
        "import pandas as pd\n",
        "import numpy as np\n",
        "from sklearn.feature_extraction.text import CountVectorizer\n",
        "from sklearn.model_selection import train_test_split\n",
        "from sklearn.naive_bayes import MultinomialNB\n",
        "from sklearn.metrics import accuracy_score, classification_report\n",
        "import nltk\n",
        "from nltk.corpus import stopwords"
      ],
      "metadata": {
        "id": "wsCgQ1tvtHsZ"
      },
      "execution_count": null,
      "outputs": []
    },
    {
      "cell_type": "code",
      "source": [
        "nltk.download('stopwords')\n",
        "stop_words = set(stopwords.words('english'))\n",
        "\n",
        "\n",
        "\n",
        "df = pd.read_csv('/content/cdc_dataset2.csv')\n",
        "#df = pd.read_csv('/content/Symptom2Disease.csv')\n",
        "print(\"Dataset loaded\")\n",
        "df.rename(columns={'text': 'Symptom Description', 'label': 'Disease'}, inplace=True)\n",
        "df = df[['Symptom Description', 'Disease']]\n",
        "df.dropna(inplace=True)\n",
        "\n",
        "\n",
        "\n",
        "def preprocess_text(text):\n",
        "    words = text.lower().split()\n",
        "    filtered_words = [word for word in words if word not in stop_words]\n",
        "    return ' '.join(filtered_words)\n",
        "\n",
        "df['Symptom Description'] = df['Symptom Description'].apply(preprocess_text)"
      ],
      "metadata": {
        "colab": {
          "base_uri": "https://localhost:8080/"
        },
        "id": "GZTvvfFptObT",
        "outputId": "827a1024-af1c-4caa-a54c-ba8c72b67328"
      },
      "execution_count": null,
      "outputs": [
        {
          "output_type": "stream",
          "name": "stdout",
          "text": [
            "Dataset loaded\n"
          ]
        },
        {
          "output_type": "stream",
          "name": "stderr",
          "text": [
            "[nltk_data] Downloading package stopwords to /root/nltk_data...\n",
            "[nltk_data]   Unzipping corpora/stopwords.zip.\n"
          ]
        }
      ]
    },
    {
      "cell_type": "code",
      "source": [
        "vectorizer = CountVectorizer()\n",
        "X = vectorizer.fit_transform(df['Symptom Description'])\n",
        "y = df['Disease']\n",
        "X_train, X_test, y_train, y_test = train_test_split(X, y, test_size=0.3, random_state=42)\n",
        "\n",
        "\n",
        "model = MultinomialNB()\n",
        "model.fit(X_train, y_train)\n",
        "print(\" Model trained successfully!\")"
      ],
      "metadata": {
        "id": "KbNxqvV6tWl0",
        "colab": {
          "base_uri": "https://localhost:8080/"
        },
        "outputId": "e0c0a059-8a7c-4d62-a9b9-d357d250e6e6"
      },
      "execution_count": null,
      "outputs": [
        {
          "output_type": "stream",
          "name": "stdout",
          "text": [
            " Model trained successfully!\n"
          ]
        }
      ]
    },
    {
      "cell_type": "code",
      "source": [
        "vectorizer = CountVectorizer()\n",
        "X = vectorizer.fit_transform(df['Symptom Description'])\n",
        "y = df['Disease']"
      ],
      "metadata": {
        "id": "SaG36Z3ObRL6"
      },
      "execution_count": null,
      "outputs": []
    },
    {
      "cell_type": "code",
      "source": [
        "model = MultinomialNB()\n",
        "model.fit(X_train, y_train)\n",
        "print(\" Model trained successfully!\")\n",
        "\n",
        "y_pred = model.predict(X_test)\n",
        "print(\"\\nAccuracy:\", accuracy_score(y_test, y_pred))\n",
        "print(\"\\nClassification Report:\\n\", classification_report(y_test, y_pred))"
      ],
      "metadata": {
        "colab": {
          "base_uri": "https://localhost:8080/"
        },
        "id": "gQXRV-_OUaH1",
        "outputId": "34edf8ad-eb8f-4127-af5d-5f6a3ecc3676"
      },
      "execution_count": null,
      "outputs": [
        {
          "output_type": "stream",
          "name": "stdout",
          "text": [
            " Model trained successfully!\n",
            "\n",
            "Accuracy: 0.99\n",
            "\n",
            "Classification Report:\n",
            "               precision    recall  f1-score   support\n",
            "\n",
            "     Allergy       0.98      1.00      0.99       212\n",
            "     Anxiety       1.00      1.00      1.00       207\n",
            "      Asthma       1.00      1.00      1.00       194\n",
            "  Bronchitis       0.95      0.97      0.96       188\n",
            "    COVID-19       1.00      1.00      1.00       221\n",
            "  Chickenpox       1.00      1.00      1.00       210\n",
            " Common Cold       1.00      0.98      0.99       181\n",
            "  Depression       1.00      1.00      1.00       212\n",
            "    Diabetes       1.00      1.00      1.00       179\n",
            "         Flu       1.00      0.97      0.99       210\n",
            "Hypertension       1.00      1.00      1.00       177\n",
            "     Malaria       0.95      1.00      0.97       204\n",
            "    Migraine       1.00      0.97      0.98       225\n",
            "   Pneumonia       0.97      0.96      0.97       197\n",
            "Tuberculosis       1.00      1.00      1.00       183\n",
            "\n",
            "    accuracy                           0.99      3000\n",
            "   macro avg       0.99      0.99      0.99      3000\n",
            "weighted avg       0.99      0.99      0.99      3000\n",
            "\n"
          ]
        }
      ]
    },
    {
      "cell_type": "code",
      "source": [
        "# predict disease\n",
        "def get_disease_prediction():\n",
        "    symptoms_input = input(\"Enter at least 3 symptoms:\").strip()\n",
        "    symptoms_list = symptoms_input.split()\n",
        "\n",
        "    if len(symptoms_list) < 3:\n",
        "        print(\" Please enter at least 3 symptoms.\")\n",
        "        return\n",
        "\n",
        "    input_vector = vectorizer.transform([symptoms_input])\n",
        "    prediction = model.predict(input_vector)[0]\n",
        "    print(f\"\\n Predicted Disease: {prediction}\")\n",
        "\n",
        "# Get prediction\n",
        "get_disease_prediction()"
      ],
      "metadata": {
        "colab": {
          "base_uri": "https://localhost:8080/"
        },
        "id": "ffQRI0JWhKCE",
        "outputId": "24ac0b7e-1cb0-4ac2-b3f3-1c23e22d378a"
      },
      "execution_count": null,
      "outputs": [
        {
          "output_type": "stream",
          "name": "stdout",
          "text": [
            "Enter at least 3 symptoms:cough cold fever\n",
            "\n",
            " Predicted Disease: Bronchitis\n"
          ]
        }
      ]
    }
  ]
}