{
  "nbformat": 4,
  "nbformat_minor": 0,
  "metadata": {
    "colab": {
      "provenance": [],
      "authorship_tag": "ABX9TyMQx12xf4nKlQEuUfFaQ00r",
      "include_colab_link": true
    },
    "kernelspec": {
      "name": "python3",
      "display_name": "Python 3"
    },
    "language_info": {
      "name": "python"
    }
  },
  "cells": [
    {
      "cell_type": "markdown",
      "metadata": {
        "id": "view-in-github",
        "colab_type": "text"
      },
      "source": [
        "<a href=\"https://colab.research.google.com/github/jneha1401/Disease_Detection_based_on_Symtoms/blob/main/DP_SVM.ipynb\" target=\"_parent\"><img src=\"https://colab.research.google.com/assets/colab-badge.svg\" alt=\"Open In Colab\"/></a>"
      ]
    },
    {
      "cell_type": "code",
      "execution_count": null,
      "metadata": {
        "id": "23ltNy9BYQk7"
      },
      "outputs": [],
      "source": [
        "import pandas as pd\n",
        "from sklearn.feature_extraction.text import CountVectorizer\n",
        "from sklearn.model_selection import train_test_split\n",
        "from sklearn.svm import SVC\n",
        "from sklearn.metrics import accuracy_score, classification_report, confusion_matrix\n",
        "import nltk\n",
        "from nltk.corpus import stopwords\n"
      ]
    },
    {
      "cell_type": "code",
      "source": [
        "nltk.download('stopwords')\n",
        "stop_words = set(stopwords.words('english'))\n",
        "\n",
        "\n",
        "\n",
        "df = pd.read_csv('/content/cdc_dataset2.csv')\n",
        "#df = pd.read_csv('/content/Symptom2Disease.csv')\n",
        "print(\"Dataset loaded\")\n",
        "df.rename(columns={'text': 'Symptom Description', 'label': 'Disease'}, inplace=True)\n",
        "df = df[['Symptom Description', 'Disease']]\n",
        "df.dropna(inplace=True)\n",
        "\n",
        "\n",
        "\n",
        "def preprocess_text(text):\n",
        "    words = text.lower().split()\n",
        "    filtered_words = [word for word in words if word not in stop_words]\n",
        "    return ' '.join(filtered_words)\n",
        "\n",
        "df['Symptom Description'] = df['Symptom Description'].apply(preprocess_text)"
      ],
      "metadata": {
        "colab": {
          "base_uri": "https://localhost:8080/"
        },
        "id": "9aBu6mOtmej6",
        "outputId": "a4161df2-5c30-4b9c-c1a4-e5b923533846"
      },
      "execution_count": null,
      "outputs": [
        {
          "output_type": "stream",
          "name": "stdout",
          "text": [
            "Dataset loaded\n"
          ]
        },
        {
          "output_type": "stream",
          "name": "stderr",
          "text": [
            "[nltk_data] Downloading package stopwords to /root/nltk_data...\n",
            "[nltk_data]   Unzipping corpora/stopwords.zip.\n"
          ]
        }
      ]
    },
    {
      "cell_type": "code",
      "source": [
        "vectorizer = CountVectorizer()\n",
        "X = vectorizer.fit_transform(df['Symptom Description'])\n",
        "y = df['Disease']"
      ],
      "metadata": {
        "id": "tor3AOFGeieI"
      },
      "execution_count": null,
      "outputs": []
    },
    {
      "cell_type": "code",
      "source": [
        "X_train, X_test, y_train, y_test = train_test_split(X, y, test_size=0.3, random_state=42)"
      ],
      "metadata": {
        "id": "pSH4JGkXeqkN"
      },
      "execution_count": null,
      "outputs": []
    },
    {
      "cell_type": "code",
      "source": [
        "model = SVC(kernel='linear')\n",
        "model.fit(X_train, y_train)\n",
        "print(\"SVM Model trained\")"
      ],
      "metadata": {
        "colab": {
          "base_uri": "https://localhost:8080/"
        },
        "id": "0TSBrHbfeynJ",
        "outputId": "696988ea-dd9a-4293-f103-932b965e1350"
      },
      "execution_count": null,
      "outputs": [
        {
          "output_type": "stream",
          "name": "stdout",
          "text": [
            "SVM Model trained\n"
          ]
        }
      ]
    },
    {
      "cell_type": "code",
      "source": [
        "y_pred = model.predict(X_test)\n",
        "print(\"\\nAccuracy:\", accuracy_score(y_test, y_pred))\n",
        "print(\"\\nClassification Report:\\n\", classification_report(y_test, y_pred))"
      ],
      "metadata": {
        "colab": {
          "base_uri": "https://localhost:8080/"
        },
        "id": "KPbkRojQe2_l",
        "outputId": "f8c314a0-04d7-4610-de70-d025f5a62608"
      },
      "execution_count": null,
      "outputs": [
        {
          "output_type": "stream",
          "name": "stdout",
          "text": [
            "\n",
            "Accuracy: 0.9936666666666667\n",
            "\n",
            "Classification Report:\n",
            "               precision    recall  f1-score   support\n",
            "\n",
            "     Allergy       0.98      1.00      0.99       212\n",
            "     Anxiety       1.00      1.00      1.00       207\n",
            "      Asthma       1.00      1.00      1.00       194\n",
            "  Bronchitis       0.96      1.00      0.98       188\n",
            "    COVID-19       1.00      1.00      1.00       221\n",
            "  Chickenpox       1.00      1.00      1.00       210\n",
            " Common Cold       1.00      0.98      0.99       181\n",
            "  Depression       1.00      1.00      1.00       212\n",
            "    Diabetes       1.00      1.00      1.00       179\n",
            "         Flu       1.00      0.97      0.99       210\n",
            "Hypertension       1.00      1.00      1.00       177\n",
            "     Malaria       0.98      0.99      0.99       204\n",
            "    Migraine       0.99      1.00      1.00       225\n",
            "   Pneumonia       0.99      0.96      0.98       197\n",
            "Tuberculosis       1.00      1.00      1.00       183\n",
            "\n",
            "    accuracy                           0.99      3000\n",
            "   macro avg       0.99      0.99      0.99      3000\n",
            "weighted avg       0.99      0.99      0.99      3000\n",
            "\n"
          ]
        }
      ]
    },
    {
      "cell_type": "code",
      "source": [
        "def get_disease_prediction():\n",
        "    symptoms_input = input(\"Enter at least 3 symptoms:\").strip()\n",
        "    symptoms_list = symptoms_input.split()\n",
        "\n",
        "    if len(symptoms_list) < 3:\n",
        "        print(\"⚠️ Please enter at least 3 symptoms.\")\n",
        "        return\n",
        "\n",
        "    input_vector = vectorizer.transform([symptoms_input])\n",
        "    prediction = model.predict(input_vector)[0]\n",
        "    print(f\"\\n Predicted Disease: {prediction}\")\n",
        "\n",
        "get_disease_prediction()"
      ],
      "metadata": {
        "colab": {
          "base_uri": "https://localhost:8080/"
        },
        "id": "gdLe7mJmXy18",
        "outputId": "68e9a0a8-4c4f-4bb1-bfeb-490d4e532637"
      },
      "execution_count": null,
      "outputs": [
        {
          "output_type": "stream",
          "name": "stdout",
          "text": [
            "Enter at least 3 symptoms:fever cough headache cold\n",
            "\n",
            " Predicted Disease: Flu\n"
          ]
        }
      ]
    }
  ]
}